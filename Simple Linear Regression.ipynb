{
 "cells": [
  {
   "cell_type": "code",
   "execution_count": 1,
   "metadata": {},
   "outputs": [],
   "source": [
    "import os\n",
    "os.chdir('D:\\\\Spring_2021\\\\AIT 580_Prof.Harry Foxwell\\\\11. Linear regression')\n",
    "os.getcwd()\n",
    "import pandas as pd"
   ]
  },
  {
   "cell_type": "code",
   "execution_count": 2,
   "metadata": {},
   "outputs": [
    {
     "data": {
      "text/plain": [
       "'\\na0006\\na0007\\na0008\\na0009\\na0010\\na0011\\na0012\\na0013\\na0014\\na0015\\na0016\\na0017\\na0018\\na0019\\na0020\\na0021\\na0022\\na0023\\na0024\\na0025\\na0026\\na0027\\na0028\\na0029\\na0030\\na0031\\na0032\\na0033\\na0034\\na0035\\na0036\\na0037\\na0038\\na0039\\na0040\\na0041\\na0042\\na0043\\na0044\\na0045\\na0046\\na0047\\na0048\\na0049\\na0050\\na0051\\na0052\\na0053\\na0054\\na0055\\na0056\\na0057\\na0058\\na0059\\na0060\\na0061\\na0062\\na0063\\na0064\\na0065\\na0066\\na0067\\na0068\\na0069\\na0070\\na0071\\na0072\\na0073\\na0074\\na0075\\na0076\\na0077\\na0078\\na0079\\na0080\\na0081\\na0082\\na0083\\na0084\\na0085\\na0086\\na0087\\na0088\\na0089\\na0090\\na0091\\na0092\\na0093\\na0094\\na0095\\na0096\\na0097\\na0098\\na0099\\n'"
      ]
     },
     "execution_count": 2,
     "metadata": {},
     "output_type": "execute_result"
    }
   ],
   "source": [
    "# Read in the raw text\n",
    "rawData = open(\"CO2.txt\").read()\n",
    "\n",
    "# Print the raw data\n",
    "rawData\n",
    "\n",
    "rawData1 = open(\"attr.txt\").read()\n",
    "\n",
    "# Print the raw data\n",
    "rawData1\n"
   ]
  },
  {
   "cell_type": "code",
   "execution_count": 4,
   "metadata": {},
   "outputs": [
    {
     "data": {
      "text/plain": [
       "[' year     mean      unc',\n",
       " '  1959   315.98     0.12',\n",
       " '  1960   316.91     0.12',\n",
       " '  1961   317.64     0.12',\n",
       " '  1962   318.45     0.12',\n",
       " '  1963   318.99     0.12',\n",
       " '  1964   319.62     0.12',\n",
       " '  1965   320.04     0.12',\n",
       " '  1966   321.37     0.12',\n",
       " '  1967   322.18     0.12',\n",
       " '  1968   323.05     0.12',\n",
       " '  1969   324.62     0.12',\n",
       " '  1970   325.68     0.12',\n",
       " '  1971   326.32     0.12',\n",
       " '  1972   327.46     0.12',\n",
       " '  1973   329.68     0.12',\n",
       " '  1974   330.19     0.12',\n",
       " '  1975   331.12     0.12',\n",
       " '  1976   332.03     0.12',\n",
       " '  1977   333.84     0.12',\n",
       " '  1978   335.41     0.12',\n",
       " '  1979   336.84     0.12',\n",
       " '  1980   338.76     0.12',\n",
       " '  1981   340.12     0.12',\n",
       " '  1982   341.48     0.12',\n",
       " '  1983   343.15     0.12',\n",
       " '  1984   344.85     0.12',\n",
       " '  1985   346.35     0.12',\n",
       " '  1986   347.61     0.12',\n",
       " '  1987   349.31     0.12',\n",
       " '  1988   351.69     0.12',\n",
       " '  1989   353.20     0.12',\n",
       " '  1990   354.45     0.12',\n",
       " '  1991   355.70     0.12',\n",
       " '  1992   356.54     0.12',\n",
       " '  1993   357.21     0.12',\n",
       " '  1994   358.96     0.12',\n",
       " '  1995   360.97     0.12',\n",
       " '  1996   362.74     0.12',\n",
       " '  1997   363.88     0.12',\n",
       " '  1998   366.84     0.12',\n",
       " '  1999   368.54     0.12',\n",
       " '  2000   369.71     0.12',\n",
       " '  2001   371.32     0.12',\n",
       " '  2002   373.45     0.12',\n",
       " '  2003   375.98     0.12',\n",
       " '  2004   377.70     0.12',\n",
       " '  2005   379.98     0.12',\n",
       " '  2006   382.09     0.12',\n",
       " '  2007   384.03     0.12',\n",
       " '  2008   385.83     0.12',\n",
       " '  2009   387.64     0.12',\n",
       " '  2010   390.10     0.12',\n",
       " '  2011   391.85     0.12',\n",
       " '  2012   394.06     0.12',\n",
       " '  2013   396.74     0.12',\n",
       " '  2014   398.87     0.12',\n",
       " '  2015   401.01     0.12',\n",
       " '  2016   404.41     0.12',\n",
       " '  2017   406.76     0.12',\n",
       " '  2018   408.72     0.12',\n",
       " '  2019   411.66     0.12',\n",
       " '  2020   414.24     0.12']"
      ]
     },
     "execution_count": 4,
     "metadata": {},
     "output_type": "execute_result"
    }
   ],
   "source": [
    "parsedData=rawData.split('\\n')#converted into list\n",
    "parsedData\n"
   ]
  },
  {
   "cell_type": "code",
   "execution_count": 4,
   "metadata": {},
   "outputs": [
    {
     "data": {
      "text/html": [
       "<div>\n",
       "<style scoped>\n",
       "    .dataframe tbody tr th:only-of-type {\n",
       "        vertical-align: middle;\n",
       "    }\n",
       "\n",
       "    .dataframe tbody tr th {\n",
       "        vertical-align: top;\n",
       "    }\n",
       "\n",
       "    .dataframe thead th {\n",
       "        text-align: right;\n",
       "    }\n",
       "</style>\n",
       "<table border=\"1\" class=\"dataframe\">\n",
       "  <thead>\n",
       "    <tr style=\"text-align: right;\">\n",
       "      <th></th>\n",
       "      <th>colname</th>\n",
       "    </tr>\n",
       "  </thead>\n",
       "  <tbody>\n",
       "    <tr>\n",
       "      <th>0</th>\n",
       "      <td>year     mean      unc</td>\n",
       "    </tr>\n",
       "    <tr>\n",
       "      <th>1</th>\n",
       "      <td>1959   315.98     0.12</td>\n",
       "    </tr>\n",
       "    <tr>\n",
       "      <th>2</th>\n",
       "      <td>1960   316.91     0.12</td>\n",
       "    </tr>\n",
       "    <tr>\n",
       "      <th>3</th>\n",
       "      <td>1961   317.64     0.12</td>\n",
       "    </tr>\n",
       "    <tr>\n",
       "      <th>4</th>\n",
       "      <td>1962   318.45     0.12</td>\n",
       "    </tr>\n",
       "  </tbody>\n",
       "</table>\n",
       "</div>"
      ],
      "text/plain": [
       "                    colname\n",
       "0    year     mean      unc\n",
       "1    1959   315.98     0.12\n",
       "2    1960   316.91     0.12\n",
       "3    1961   317.64     0.12\n",
       "4    1962   318.45     0.12"
      ]
     },
     "execution_count": 4,
     "metadata": {},
     "output_type": "execute_result"
    }
   ],
   "source": [
    "df=pd.DataFrame(parsedData)\n",
    "df.head()\n",
    "df.columns =['colname']\n",
    "df.head()"
   ]
  },
  {
   "cell_type": "code",
   "execution_count": 112,
   "metadata": {},
   "outputs": [],
   "source": [
    "co2_df=df.colname.str.split(expand=True)\n",
    "co2_df.columns=['year','mean','unc']\n",
    "co2_df=co2_df[1:]\n",
    "co2_df.head()\n",
    "co2_df.to_csv('CO2.csv')\n"
   ]
  },
  {
   "cell_type": "code",
   "execution_count": 5,
   "metadata": {},
   "outputs": [
    {
     "data": {
      "text/html": [
       "<div>\n",
       "<style scoped>\n",
       "    .dataframe tbody tr th:only-of-type {\n",
       "        vertical-align: middle;\n",
       "    }\n",
       "\n",
       "    .dataframe tbody tr th {\n",
       "        vertical-align: top;\n",
       "    }\n",
       "\n",
       "    .dataframe thead th {\n",
       "        text-align: right;\n",
       "    }\n",
       "</style>\n",
       "<table border=\"1\" class=\"dataframe\">\n",
       "  <thead>\n",
       "    <tr style=\"text-align: right;\">\n",
       "      <th></th>\n",
       "      <th>year</th>\n",
       "      <th>mean</th>\n",
       "      <th>unc</th>\n",
       "    </tr>\n",
       "  </thead>\n",
       "  <tbody>\n",
       "    <tr>\n",
       "      <th>0</th>\n",
       "      <td>1959</td>\n",
       "      <td>315.98</td>\n",
       "      <td>0.12</td>\n",
       "    </tr>\n",
       "    <tr>\n",
       "      <th>1</th>\n",
       "      <td>1960</td>\n",
       "      <td>316.91</td>\n",
       "      <td>0.12</td>\n",
       "    </tr>\n",
       "    <tr>\n",
       "      <th>2</th>\n",
       "      <td>1961</td>\n",
       "      <td>317.64</td>\n",
       "      <td>0.12</td>\n",
       "    </tr>\n",
       "    <tr>\n",
       "      <th>3</th>\n",
       "      <td>1962</td>\n",
       "      <td>318.45</td>\n",
       "      <td>0.12</td>\n",
       "    </tr>\n",
       "    <tr>\n",
       "      <th>4</th>\n",
       "      <td>1963</td>\n",
       "      <td>318.99</td>\n",
       "      <td>0.12</td>\n",
       "    </tr>\n",
       "  </tbody>\n",
       "</table>\n",
       "</div>"
      ],
      "text/plain": [
       "   year    mean   unc\n",
       "0  1959  315.98  0.12\n",
       "1  1960  316.91  0.12\n",
       "2  1961  317.64  0.12\n",
       "3  1962  318.45  0.12\n",
       "4  1963  318.99  0.12"
      ]
     },
     "execution_count": 5,
     "metadata": {},
     "output_type": "execute_result"
    }
   ],
   "source": [
    "df=pd.read_csv('D:\\\\Spring_2021\\\\AIT 580_Prof.Harry Foxwell\\\\11. Linear regression\\\\CO2.csv')\n",
    "df.head()"
   ]
  },
  {
   "cell_type": "code",
   "execution_count": 6,
   "metadata": {},
   "outputs": [
    {
     "data": {
      "text/plain": [
       "year      int64\n",
       "mean    float64\n",
       "unc     float64\n",
       "dtype: object"
      ]
     },
     "execution_count": 6,
     "metadata": {},
     "output_type": "execute_result"
    }
   ],
   "source": [
    "df.dtypes"
   ]
  },
  {
   "cell_type": "code",
   "execution_count": 7,
   "metadata": {},
   "outputs": [
    {
     "data": {
      "text/html": [
       "<div>\n",
       "<style scoped>\n",
       "    .dataframe tbody tr th:only-of-type {\n",
       "        vertical-align: middle;\n",
       "    }\n",
       "\n",
       "    .dataframe tbody tr th {\n",
       "        vertical-align: top;\n",
       "    }\n",
       "\n",
       "    .dataframe thead th {\n",
       "        text-align: right;\n",
       "    }\n",
       "</style>\n",
       "<table border=\"1\" class=\"dataframe\">\n",
       "  <thead>\n",
       "    <tr style=\"text-align: right;\">\n",
       "      <th></th>\n",
       "      <th>year</th>\n",
       "      <th>mean</th>\n",
       "      <th>unc</th>\n",
       "    </tr>\n",
       "  </thead>\n",
       "  <tbody>\n",
       "    <tr>\n",
       "      <th>year</th>\n",
       "      <td>1.000000</td>\n",
       "      <td>9.914384e-01</td>\n",
       "      <td>0.000000e+00</td>\n",
       "    </tr>\n",
       "    <tr>\n",
       "      <th>mean</th>\n",
       "      <td>0.991438</td>\n",
       "      <td>1.000000e+00</td>\n",
       "      <td>-6.123476e-16</td>\n",
       "    </tr>\n",
       "    <tr>\n",
       "      <th>unc</th>\n",
       "      <td>0.000000</td>\n",
       "      <td>-6.123476e-16</td>\n",
       "      <td>1.000000e+00</td>\n",
       "    </tr>\n",
       "  </tbody>\n",
       "</table>\n",
       "</div>"
      ],
      "text/plain": [
       "          year          mean           unc\n",
       "year  1.000000  9.914384e-01  0.000000e+00\n",
       "mean  0.991438  1.000000e+00 -6.123476e-16\n",
       "unc   0.000000 -6.123476e-16  1.000000e+00"
      ]
     },
     "execution_count": 7,
     "metadata": {},
     "output_type": "execute_result"
    }
   ],
   "source": [
    "df.corr()"
   ]
  },
  {
   "cell_type": "code",
   "execution_count": 8,
   "metadata": {},
   "outputs": [],
   "source": [
    "import pandas as pd\n",
    "import numpy as np\n"
   ]
  },
  {
   "cell_type": "code",
   "execution_count": 122,
   "metadata": {},
   "outputs": [
    {
     "name": "stdout",
     "output_type": "stream",
     "text": [
      "Requirement already satisfied: seaborn in c:\\users\\chakri\\anaconda3\\lib\\site-packages (0.11.0)\n",
      "Requirement already satisfied: numpy>=1.15 in c:\\users\\chakri\\anaconda3\\lib\\site-packages (from seaborn) (1.19.2)\n",
      "Requirement already satisfied: scipy>=1.0 in c:\\users\\chakri\\anaconda3\\lib\\site-packages (from seaborn) (1.5.2)\n",
      "Requirement already satisfied: pandas>=0.23 in c:\\users\\chakri\\anaconda3\\lib\\site-packages (from seaborn) (1.1.3)\n",
      "Requirement already satisfied: matplotlib>=2.2 in c:\\users\\chakri\\anaconda3\\lib\\site-packages (from seaborn) (3.3.2)\n",
      "Requirement already satisfied: pytz>=2017.2 in c:\\users\\chakri\\anaconda3\\lib\\site-packages (from pandas>=0.23->seaborn) (2020.1)\n",
      "Requirement already satisfied: python-dateutil>=2.7.3 in c:\\users\\chakri\\anaconda3\\lib\\site-packages (from pandas>=0.23->seaborn) (2.8.1)\n",
      "Requirement already satisfied: kiwisolver>=1.0.1 in c:\\users\\chakri\\anaconda3\\lib\\site-packages (from matplotlib>=2.2->seaborn) (1.3.0)\n",
      "Requirement already satisfied: certifi>=2020.06.20 in c:\\users\\chakri\\anaconda3\\lib\\site-packages (from matplotlib>=2.2->seaborn) (2020.6.20)\n",
      "Requirement already satisfied: pillow>=6.2.0 in c:\\users\\chakri\\anaconda3\\lib\\site-packages (from matplotlib>=2.2->seaborn) (8.0.1)\n",
      "Requirement already satisfied: pyparsing!=2.0.4,!=2.1.2,!=2.1.6,>=2.0.3 in c:\\users\\chakri\\anaconda3\\lib\\site-packages (from matplotlib>=2.2->seaborn) (2.4.7)\n",
      "Requirement already satisfied: cycler>=0.10 in c:\\users\\chakri\\anaconda3\\lib\\site-packages (from matplotlib>=2.2->seaborn) (0.10.0)\n",
      "Requirement already satisfied: six>=1.5 in c:\\users\\chakri\\anaconda3\\lib\\site-packages (from python-dateutil>=2.7.3->pandas>=0.23->seaborn) (1.15.0)\n",
      "Note: you may need to restart the kernel to use updated packages.\n"
     ]
    }
   ],
   "source": [
    "pip install seaborn"
   ]
  },
  {
   "cell_type": "code",
   "execution_count": 9,
   "metadata": {},
   "outputs": [],
   "source": [
    "import matplotlib.pyplot as plt\n",
    "import seaborn as sns"
   ]
  },
  {
   "cell_type": "code",
   "execution_count": 21,
   "metadata": {},
   "outputs": [
    {
     "data": {
      "text/plain": [
       "Text(0, 0.5, 'annual_mean_CO2')"
      ]
     },
     "execution_count": 21,
     "metadata": {},
     "output_type": "execute_result"
    },
    {
     "data": {
      "image/png": "[encoded data removed]",
      "text/plain": [
       "<Figure size 504x360 with 1 Axes>"
      ]
     },
     "metadata": {
      "needs_background": "light"
     },
     "output_type": "display_data"
    }
   ],
   "source": [
    "width=7\n",
    "height=5\n",
    "plt.figure(figsize=(width, height))\n",
    "sns.regplot(x=\"year\", y=\"mean\", data=df)\n",
    "plt.ylim(300,)\n",
    "plt.ylabel('annual_mean_CO2')"
   ]
  },
  {
   "cell_type": "code",
   "execution_count": 31,
   "metadata": {},
   "outputs": [
    {
     "data": {
      "image/png": "[encoded data removed]",
      "text/plain": [
       "<Figure size 432x288 with 1 Axes>"
      ]
     },
     "metadata": {
      "needs_background": "light"
     },
     "output_type": "display_data"
    }
   ],
   "source": [
    "\n",
    "plt.plot(Y,Yhat)\n",
    "plt.xlabel('actual mean')\n",
    "plt.ylabel('predicted mean')\n",
    "plt.title('Actual V/S Predicted')\n",
    "plt.show()"
   ]
  },
  {
   "cell_type": "code",
   "execution_count": 19,
   "metadata": {},
   "outputs": [
    {
     "data": {
      "text/html": [
       "<div>\n",
       "<style scoped>\n",
       "    .dataframe tbody tr th:only-of-type {\n",
       "        vertical-align: middle;\n",
       "    }\n",
       "\n",
       "    .dataframe tbody tr th {\n",
       "        vertical-align: top;\n",
       "    }\n",
       "\n",
       "    .dataframe thead th {\n",
       "        text-align: right;\n",
       "    }\n",
       "</style>\n",
       "<table border=\"1\" class=\"dataframe\">\n",
       "  <thead>\n",
       "    <tr style=\"text-align: right;\">\n",
       "      <th></th>\n",
       "      <th>year</th>\n",
       "      <th>mean</th>\n",
       "    </tr>\n",
       "  </thead>\n",
       "  <tbody>\n",
       "    <tr>\n",
       "      <th>year</th>\n",
       "      <td>1.000000</td>\n",
       "      <td>0.991438</td>\n",
       "    </tr>\n",
       "    <tr>\n",
       "      <th>mean</th>\n",
       "      <td>0.991438</td>\n",
       "      <td>1.000000</td>\n",
       "    </tr>\n",
       "  </tbody>\n",
       "</table>\n",
       "</div>"
      ],
      "text/plain": [
       "          year      mean\n",
       "year  1.000000  0.991438\n",
       "mean  0.991438  1.000000"
      ]
     },
     "execution_count": 19,
     "metadata": {},
     "output_type": "execute_result"
    }
   ],
   "source": [
    "df[['year', \"mean\"]].corr()"
   ]
  },
  {
   "cell_type": "code",
   "execution_count": 13,
   "metadata": {},
   "outputs": [
    {
     "data": {
      "text/plain": [
       "LinearRegression()"
      ]
     },
     "execution_count": 13,
     "metadata": {},
     "output_type": "execute_result"
    }
   ],
   "source": [
    "from sklearn.linear_model import LinearRegression\n",
    "lm=LinearRegression()\n",
    "lm"
   ]
  },
  {
   "cell_type": "code",
   "execution_count": 14,
   "metadata": {},
   "outputs": [
    {
     "data": {
      "text/plain": [
       "0     315.98\n",
       "1     316.91\n",
       "2     317.64\n",
       "3     318.45\n",
       "4     318.99\n",
       "       ...  \n",
       "57    404.41\n",
       "58    406.76\n",
       "59    408.72\n",
       "60    411.66\n",
       "61    414.24\n",
       "Name: mean, Length: 62, dtype: float64"
      ]
     },
     "execution_count": 14,
     "metadata": {},
     "output_type": "execute_result"
    }
   ],
   "source": [
    "X = df[['year']]\n",
    "Y = df['mean']\n",
    "lm.fit(X,Y)\n",
    "Y"
   ]
  },
  {
   "cell_type": "code",
   "execution_count": 15,
   "metadata": {},
   "outputs": [
    {
     "name": "stdout",
     "output_type": "stream",
     "text": [
      "intercept:  -2826.282137191206\n",
      "coefficient parameter:  [1.59973257]\n"
     ]
    }
   ],
   "source": [
    "print('intercept: ',lm.intercept_)\n",
    "print('coefficient parameter: ',lm.coef_)"
   ]
  },
  {
   "cell_type": "code",
   "execution_count": 28,
   "metadata": {},
   "outputs": [
    {
     "name": "stdout",
     "output_type": "stream",
     "text": [
      "actual:  315.98 predicted:  307.5939631336405\n",
      "actual:  316.91 predicted:  309.1936957014432\n",
      "actual:  317.64 predicted:  310.7934282692454\n",
      "actual:  318.45 predicted:  312.3931608370476\n",
      "actual:  318.99 predicted:  313.9928934048503\n",
      "actual:  319.62 predicted:  315.5926259726525\n",
      "actual:  320.04 predicted:  317.19235854045473\n",
      "actual:  321.37 predicted:  318.7920911082574\n",
      "actual:  322.18 predicted:  320.39182367605963\n",
      "actual:  323.05 predicted:  321.99155624386185\n",
      "actual:  324.62 predicted:  323.5912888116645\n",
      "actual:  325.68 predicted:  325.19102137946675\n",
      "actual:  326.32 predicted:  326.79075394726897\n",
      "actual:  327.46 predicted:  328.39048651507164\n",
      "actual:  329.68 predicted:  329.99021908287386\n",
      "actual:  330.19 predicted:  331.5899516506761\n",
      "actual:  331.12 predicted:  333.18968421847876\n",
      "actual:  332.03 predicted:  334.789416786281\n",
      "actual:  333.84 predicted:  336.3891493540832\n",
      "actual:  335.41 predicted:  337.9888819218859\n",
      "actual:  336.84 predicted:  339.5886144896881\n",
      "actual:  338.76 predicted:  341.1883470574903\n",
      "actual:  340.12 predicted:  342.788079625293\n",
      "actual:  341.48 predicted:  344.3878121930952\n",
      "actual:  343.15 predicted:  345.98754476089744\n",
      "actual:  344.85 predicted:  347.5872773287001\n",
      "actual:  346.35 predicted:  349.18700989650233\n",
      "actual:  347.61 predicted:  350.78674246430455\n",
      "actual:  349.31 predicted:  352.3864750321072\n",
      "actual:  351.69 predicted:  353.98620759990945\n",
      "actual:  353.2 predicted:  355.58594016771167\n",
      "actual:  354.45 predicted:  357.18567273551434\n",
      "actual:  355.7 predicted:  358.78540530331657\n",
      "actual:  356.54 predicted:  360.3851378711188\n",
      "actual:  357.21 predicted:  361.98487043892146\n",
      "actual:  358.96 predicted:  363.5846030067237\n",
      "actual:  360.97 predicted:  365.1843355745259\n",
      "actual:  362.74 predicted:  366.7840681423286\n",
      "actual:  363.88 predicted:  368.3838007101308\n",
      "actual:  366.84 predicted:  369.983533277933\n",
      "actual:  368.54 predicted:  371.5832658457357\n",
      "actual:  369.71 predicted:  373.1829984135379\n",
      "actual:  371.32 predicted:  374.78273098134014\n",
      "actual:  373.45 predicted:  376.3824635491428\n",
      "actual:  375.98 predicted:  377.98219611694503\n",
      "actual:  377.7 predicted:  379.58192868474725\n",
      "actual:  379.98 predicted:  381.18166125254993\n",
      "actual:  382.09 predicted:  382.78139382035215\n",
      "actual:  384.03 predicted:  384.38112638815437\n",
      "actual:  385.83 predicted:  385.98085895595705\n",
      "actual:  387.64 predicted:  387.58059152375927\n",
      "actual:  390.1 predicted:  389.1803240915615\n",
      "actual:  391.85 predicted:  390.78005665936416\n",
      "actual:  394.06 predicted:  392.3797892271664\n",
      "actual:  396.74 predicted:  393.9795217949686\n",
      "actual:  398.87 predicted:  395.5792543627713\n",
      "actual:  401.01 predicted:  397.1789869305735\n",
      "actual:  404.41 predicted:  398.7787194983757\n",
      "actual:  406.76 predicted:  400.3784520661784\n",
      "actual:  408.72 predicted:  401.9781846339806\n",
      "actual:  411.66 predicted:  403.57791720178284\n",
      "actual:  414.24 predicted:  405.1776497695855\n"
     ]
    },
    {
     "data": {
      "text/plain": [
       "array([307.59396313, 309.1936957 , 310.79342827, 312.39316084,\n",
       "       313.9928934 , 315.59262597, 317.19235854, 318.79209111,\n",
       "       320.39182368, 321.99155624, 323.59128881, 325.19102138,\n",
       "       326.79075395, 328.39048652, 329.99021908, 331.58995165,\n",
       "       333.18968422, 334.78941679, 336.38914935, 337.98888192,\n",
       "       339.58861449, 341.18834706, 342.78807963, 344.38781219,\n",
       "       345.98754476, 347.58727733, 349.1870099 , 350.78674246,\n",
       "       352.38647503, 353.9862076 , 355.58594017, 357.18567274,\n",
       "       358.7854053 , 360.38513787, 361.98487044, 363.58460301,\n",
       "       365.18433557, 366.78406814, 368.38380071, 369.98353328,\n",
       "       371.58326585, 373.18299841, 374.78273098, 376.38246355,\n",
       "       377.98219612, 379.58192868, 381.18166125, 382.78139382,\n",
       "       384.38112639, 385.98085896, 387.58059152, 389.18032409,\n",
       "       390.78005666, 392.37978923, 393.97952179, 395.57925436,\n",
       "       397.17898693, 398.7787195 , 400.37845207, 401.97818463,\n",
       "       403.5779172 , 405.17764977])"
      ]
     },
     "execution_count": 28,
     "metadata": {},
     "output_type": "execute_result"
    }
   ],
   "source": [
    "Yhat=lm.predict(X)\n",
    "Yhat\n",
    "\n",
    "for index in range(len(Yhat)):\n",
    "    print('actual: ',Y[index], 'predicted: ',Yhat[index])\n",
    "Yhat    "
   ]
  },
  {
   "cell_type": "code",
   "execution_count": 27,
   "metadata": {},
   "outputs": [
    {
     "name": "stdout",
     "output_type": "stream",
     "text": [
      "residuals:  8.386036866359518\n",
      "residuals:  7.7163042985568495\n",
      "residuals:  6.84657173075459\n",
      "residuals:  6.056839162952372\n",
      "residuals:  4.997106595149717\n",
      "residuals:  4.027374027347491\n",
      "residuals:  2.8476414595452866\n",
      "residuals:  2.577908891742595\n",
      "residuals:  1.7881763239403767\n",
      "residuals:  1.0584437561381606\n",
      "residuals:  1.0287111883354783\n",
      "residuals:  0.4889786205332598\n",
      "residuals:  -0.47075394726897457\n",
      "residuals:  -0.9304865150716637\n",
      "residuals:  -0.31021908287385713\n",
      "residuals:  -1.399951650676087\n",
      "residuals:  -2.0696842184787556\n",
      "residuals:  -2.759416786281008\n",
      "residuals:  -2.5491493540832266\n",
      "residuals:  -2.578881921885852\n",
      "residuals:  -2.748614489688123\n",
      "residuals:  -2.4283470574903276\n",
      "residuals:  -2.6680796252929895\n",
      "residuals:  -2.9078121930951966\n",
      "residuals:  -2.837544760897458\n",
      "residuals:  -2.737277328700088\n",
      "residuals:  -2.837009896502309\n",
      "residuals:  -3.1767424643045388\n",
      "residuals:  -3.0764750321072256\n",
      "residuals:  -2.296207599909451\n",
      "residuals:  -2.3859401677116807\n",
      "residuals:  -2.735672735514356\n",
      "residuals:  -3.085405303316577\n",
      "residuals:  -3.845137871118766\n",
      "residuals:  -4.774870438921482\n",
      "residuals:  -4.624603006723703\n",
      "residuals:  -4.214335574525876\n",
      "residuals:  -4.04406814232857\n",
      "residuals:  -4.503800710130804\n",
      "residuals:  -3.143533277933045\n",
      "residuals:  -3.043265845735675\n",
      "residuals:  -3.472998413537937\n",
      "residuals:  -3.462730981340144\n",
      "residuals:  -2.932463549142824\n",
      "residuals:  -2.002196116945015\n",
      "residuals:  -1.8819286847472654\n",
      "residuals:  -1.2016612525499113\n",
      "residuals:  -0.6913938203521752\n",
      "residuals:  -0.35112638815439823\n",
      "residuals:  -0.15085895595706234\n",
      "residuals:  0.05940847624071921\n",
      "residuals:  0.9196759084385349\n",
      "residuals:  1.0699433406358594\n",
      "residuals:  1.6802107728336182\n",
      "residuals:  2.7604782050314043\n",
      "residuals:  3.2907456372287243\n",
      "residuals:  3.83101306942649\n",
      "residuals:  5.631280501624303\n",
      "residuals:  6.381547933821594\n",
      "residuals:  6.741815366019409\n",
      "residuals:  8.082082798217186\n",
      "residuals:  9.062350230414495\n"
     ]
    }
   ],
   "source": [
    "for index in range(len(Yhat)):\n",
    "    print('residuals: ',Y[index] - Yhat[index])\n",
    "    "
   ]
  },
  {
   "cell_type": "code",
   "execution_count": 17,
   "metadata": {},
   "outputs": [
    {
     "name": "stdout",
     "output_type": "stream",
     "text": [
      "intercept:  -2826.282137191206\n",
      "coefficient parameter:  [1.59973257]\n"
     ]
    }
   ],
   "source": [
    "print('intercept: ',lm.intercept_)\n",
    "print('coefficient parameter: ',lm.coef_)"
   ]
  },
  {
   "cell_type": "code",
   "execution_count": 20,
   "metadata": {},
   "outputs": [
    {
     "name": "stdout",
     "output_type": "stream",
     "text": [
      "predicted mean for the year  2030  is  421.1749799087943\n",
      "predicted mean for the year  2040  is  437.172305608794\n",
      "predicted mean for the year  2050  is  453.1696313087941\n"
     ]
    }
   ],
   "source": [
    "#Yhat=a+b*(X)\n",
    "#mean=a+b*(year)\n",
    "#estimated final equation with slope and intercept\n",
    "years=[2030,2040,2050]\n",
    "\n",
    "means=0\n",
    "for i in years:\n",
    "    print(\"predicted mean for the year \",i,\" is \",(-2826.282137191206)+((1.59973257)*i))\n",
    "\n"
   ]
  },
  {
   "cell_type": "code",
   "execution_count": null,
   "metadata": {},
   "outputs": [],
   "source": []
  }
 ],
 "metadata": {
  "kernelspec": {
   "display_name": "Python 3 (ipykernel)",
   "language": "python",
   "name": "python3"
  },
  "language_info": {
   "codemirror_mode": {
    "name": "ipython",
    "version": 3
   },
   "file_extension": ".py",
   "mimetype": "text/x-python",
   "name": "python",
   "nbconvert_exporter": "python",
   "pygments_lexer": "ipython3",
   "version": "3.8.5"
  }
 },
 "nbformat": 4,
 "nbformat_minor": 4
}
